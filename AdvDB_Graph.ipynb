{
  "nbformat": 4,
  "nbformat_minor": 0,
  "metadata": {
    "colab": {
      "provenance": []
    },
    "kernelspec": {
      "name": "python3",
      "display_name": "Python 3"
    },
    "language_info": {
      "name": "python"
    }
  },
  "cells": [
    {
      "cell_type": "code",
      "source": [
        "import matplotlib.pyplot as plt\n",
        "import numpy as np"
      ],
      "metadata": {
        "id": "PC-44VwUanO_"
      },
      "execution_count": 10,
      "outputs": []
    },
    {
      "cell_type": "code",
      "source": [
        "worker_1 = np.array([11.079958391189574,7.188241362571716, 12.988419270515442, 13.737019062042236, 16.00357789993286])\n",
        "workers_2 = np.array([29.98592004776001,15.45491111278534, 32.91699433326721 ,  40.721867489814755, 53.14361157417297 ])\n",
        "\n",
        "\n",
        "labels = np.array([\"Q1\",\"Q2\",\"Q3API\",\"Q4\",\"Q5\",])\n",
        "\n",
        "plt.bar(labels,workers_2, label=\"2 worker\")\n",
        "plt.bar(labels,worker_1, label=\"1 worker\")\n",
        "\n",
        "plt.title(\"Average execution time of  all queries (except RDD)\")\n",
        "plt.ylim(0,60)\n",
        "plt.legend()"
      ],
      "metadata": {
        "colab": {
          "base_uri": "https://localhost:8080/",
          "height": 298
        },
        "id": "WxEWa_DBau_P",
        "outputId": "3510ff4f-e9c2-4b56-ca01-33807a1da27a"
      },
      "execution_count": 11,
      "outputs": [
        {
          "output_type": "execute_result",
          "data": {
            "text/plain": [
              "<matplotlib.legend.Legend at 0x7fabeb3eba00>"
            ]
          },
          "metadata": {},
          "execution_count": 11
        },
        {
          "output_type": "display_data",
          "data": {
            "text/plain": [
              "<Figure size 432x288 with 1 Axes>"
            ],
            "image/png": "[encoded data removed]"
          },
          "metadata": {
            "needs_background": "light"
          }
        }
      ]
    },
    {
      "cell_type": "code",
      "source": [
        "worker_1 = np.array([11.079958391189574,7.188241362571716, 12.988419270515442, 312.4778537750244\n",
        ", 13.737019062042236, 16.00357789993286])\n",
        "workers_2 = np.array([29.98592004776001,15.45491111278534, 32.91699433326721 ,291.32592964172363,  40.721867489814755, 53.14361157417297 ])\n",
        "\n",
        "\n",
        "labels = np.array([\"Q1\",\"Q2\",\"Q3API\",\"Q3RDD\",\"Q4\",\"Q5\",])\n",
        "\n",
        "plt.bar(labels,workers_2, label=\"2 worker\")\n",
        "plt.bar(labels,worker_1, label=\"1 worker\")\n",
        "plt.title(\"Average execution time of  all queries \")\n",
        "plt.ylim(0,330)\n",
        "plt.legend()\n",
        "\n"
      ],
      "metadata": {
        "colab": {
          "base_uri": "https://localhost:8080/",
          "height": 298
        },
        "id": "qAv1kh5igqIM",
        "outputId": "bbc66b7d-eb91-40da-fda0-8bd5d55f119e"
      },
      "execution_count": 14,
      "outputs": [
        {
          "output_type": "execute_result",
          "data": {
            "text/plain": [
              "<matplotlib.legend.Legend at 0x7fabea27f790>"
            ]
          },
          "metadata": {},
          "execution_count": 14
        },
        {
          "output_type": "display_data",
          "data": {
            "text/plain": [
              "<Figure size 432x288 with 1 Axes>"
            ],
            "image/png": "[encoded data removed]"
          },
          "metadata": {
            "needs_background": "light"
          }
        }
      ]
    },
    {
      "cell_type": "code",
      "source": [
        "RDD = np.array([312.4778537750244,291.32592964172363 ])\n",
        "labels = np.array([\"worker_1\", \"workers_2\"])\n",
        "plt.bar(labels,RDD, label=\"Q3RDD\")\n",
        "plt.title(\"Average execution time of  all Q3RDD\")\n",
        "plt.ylim(0,330)\n",
        "plt.legend()"
      ],
      "metadata": {
        "colab": {
          "base_uri": "https://localhost:8080/",
          "height": 299
        },
        "id": "lGvJq1d0BPFS",
        "outputId": "79a0935a-eebb-4718-c278-d443fdf77319"
      },
      "execution_count": 15,
      "outputs": [
        {
          "output_type": "execute_result",
          "data": {
            "text/plain": [
              "<matplotlib.legend.Legend at 0x7fabea1fb190>"
            ]
          },
          "metadata": {},
          "execution_count": 15
        },
        {
          "output_type": "display_data",
          "data": {
            "text/plain": [
              "<Figure size 432x288 with 1 Axes>"
            ],
            "image/png": "[encoded data removed]"
          },
          "metadata": {
            "needs_background": "light"
          }
        }
      ]
    },
    {
      "cell_type": "code",
      "source": [],
      "metadata": {
        "id": "yBKowsfyQJXO"
      },
      "execution_count": 15,
      "outputs": []
    }
  ]
}